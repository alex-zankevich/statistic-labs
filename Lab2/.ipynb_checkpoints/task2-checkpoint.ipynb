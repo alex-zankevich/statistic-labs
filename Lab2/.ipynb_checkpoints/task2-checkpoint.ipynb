{
 "cells": [
  {
   "cell_type": "markdown",
   "metadata": {},
   "source": [
    "#### Imports"
   ]
  },
  {
   "cell_type": "code",
   "execution_count": 166,
   "metadata": {
    "collapsed": false
   },
   "outputs": [],
   "source": [
    "import math\n",
    "import numpy as np\n",
    "import matplotlib.pyplot as plt\n",
    "\n",
    "import pandas as pd\n",
    "from pandas import Series, DataFrame"
   ]
  },
  {
   "cell_type": "markdown",
   "metadata": {},
   "source": [
    "#### File input"
   ]
  },
  {
   "cell_type": "code",
   "execution_count": 167,
   "metadata": {
    "collapsed": false
   },
   "outputs": [],
   "source": [
    "with open(\"input.txt\") as fin:\n",
    "    lcg1Params = map(lambda el: int(el), fin.readline().split())\n",
    "    lcg2Params = map(lambda el: int(el), fin.readline().split())\n",
    "    lcg3Params = map(lambda el: int(el), fin.readline().split())\n",
    "\n",
    "lcg3Params = [2 ** 32, 22695477, 1, 2 ** 16 + 3]"
   ]
  },
  {
   "cell_type": "markdown",
   "metadata": {},
   "source": [
    "### Constants"
   ]
  },
  {
   "cell_type": "code",
   "execution_count": 168,
   "metadata": {
    "collapsed": true
   },
   "outputs": [],
   "source": [
    "big_N = 10 ** 6\n",
    "small_N = 10 ** 4"
   ]
  },
  {
   "cell_type": "markdown",
   "metadata": {},
   "source": [
    "### Generators"
   ]
  },
  {
   "cell_type": "markdown",
   "metadata": {},
   "source": [
    "#### Linear congruential generator"
   ]
  },
  {
   "cell_type": "code",
   "execution_count": 169,
   "metadata": {
    "collapsed": false
   },
   "outputs": [],
   "source": [
    "def LCG(module, a, c, seed):\n",
    "    while True:\n",
    "        seed = (seed * a + c) % module\n",
    "        yield seed / float(module)"
   ]
  },
  {
   "cell_type": "markdown",
   "metadata": {},
   "source": [
    "#### MacLaren-Marsaglia - iterating option"
   ]
  },
  {
   "cell_type": "code",
   "execution_count": 170,
   "metadata": {
    "collapsed": false
   },
   "outputs": [],
   "source": [
    "def MMG(moduleX, aX, cX, seedX, moduleY, aY, cY, seedY, k, n):\n",
    "    randX, randY = LCG(seedX, aX, cX, moduleX), LCG(seedY, aY, cY, moduleY)\n",
    "    X, Y = [randX.next() for i in range(n + k)], [randY.next() for i in range(n)]\n",
    "    \n",
    "    v, result = X[:k], []\n",
    "\n",
    "    for i in range(n):\n",
    "        result.append(v[int(Y[i] * k)])\n",
    "        v[int(Y[i] * k)] = X[k + i]\n",
    "        \n",
    "    return result"
   ]
  },
  {
   "cell_type": "markdown",
   "metadata": {},
   "source": [
    "#### MacLaren-Marsaglia - generator option"
   ]
  },
  {
   "cell_type": "code",
   "execution_count": 171,
   "metadata": {
    "collapsed": false
   },
   "outputs": [],
   "source": [
    "def MMG(moduleX, aX, cX, seedX, moduleY, aY, cY, seedY, k):\n",
    "    randX, randY = LCG(seedX, aX, cX, moduleX), LCG(seedY, aY, cY, moduleY)\n",
    "    v = [randY.next() for i in range(k)]\n",
    "    \n",
    "    while True:\n",
    "        x, j = randY.next(), int(randX.next() * k)\n",
    "        res, v[j] = v[j], x\n",
    "        yield res"
   ]
  },
  {
   "cell_type": "markdown",
   "metadata": {},
   "source": [
    "#### Bernulli"
   ]
  },
  {
   "cell_type": "code",
   "execution_count": 172,
   "metadata": {
    "collapsed": false
   },
   "outputs": [],
   "source": [
    "def bernulli(key_params, value_params, probability):\n",
    "    mmg = MMG(*(key_params + value_params + [100]))\n",
    "    while True:\n",
    "        yield (1 if mmg.next() <= probability else 0)"
   ]
  },
  {
   "cell_type": "markdown",
   "metadata": {
    "collapsed": true
   },
   "source": [
    "#### Test"
   ]
  },
  {
   "cell_type": "code",
   "execution_count": 173,
   "metadata": {
    "collapsed": false
   },
   "outputs": [
    {
     "data": {
      "image/png": "[encoded data removed]",
      "text/plain": [
       "<matplotlib.figure.Figure at 0x236409190>"
      ]
     },
     "metadata": {},
     "output_type": "display_data"
    }
   ],
   "source": [
    "ber = bernulli(lcg3Params, lcg3Params, .7)\n",
    "\n",
    "plt.hist([ber.next() for i in range(100)])\n",
    "plt.show()"
   ]
  },
  {
   "cell_type": "markdown",
   "metadata": {},
   "source": [
    "#### Pirson test"
   ]
  },
  {
   "cell_type": "code",
   "execution_count": 174,
   "metadata": {
    "collapsed": false
   },
   "outputs": [],
   "source": [
    "def pirson_for_bernulli(res, probability):\n",
    "    count = len(res)\n",
    "    \n",
    "    expectation = np.sum(res) / count\n",
    "    dispersion = np.sum([(i - expectation) ** 2 for i in res]) / (count - 1)    \n",
    "    ones = np.count_nonzero(res)     \n",
    "\n",
    "    return (ones - count) ** 2 / count / probability + (count - ones - count * (1 - probability)) ** 2 / count / (1 - probability)"
   ]
  },
  {
   "cell_type": "markdown",
   "metadata": {},
   "source": [
    "#### Discrete"
   ]
  },
  {
   "cell_type": "code",
   "execution_count": 196,
   "metadata": {
    "collapsed": true
   },
   "outputs": [],
   "source": [
    "def discrete_distribution(key_params, value_params, a, b):\n",
    "    mmg = MMG(*(key_params + value_params + [128]))\n",
    "\n",
    "    while True:\n",
    "        yield int(mmg.next() * (b - a + 1))"
   ]
  },
  {
   "cell_type": "markdown",
   "metadata": {},
   "source": [
    "#### Test"
   ]
  },
  {
   "cell_type": "code",
   "execution_count": 203,
   "metadata": {
    "collapsed": false
   },
   "outputs": [
    {
     "data": {
      "image/png": "[encoded data removed]",
      "text/plain": [
       "<matplotlib.figure.Figure at 0x23649d210>"
      ]
     },
     "metadata": {},
     "output_type": "display_data"
    }
   ],
   "source": [
    "dscr = discrete_distribution(lcg3Params, lcg3Params, 1, 100)\n",
    "\n",
    "plt.hist([dscr.next() for i in range(1000)], bins=\"auto\")\n",
    "plt.show()"
   ]
  },
  {
   "cell_type": "markdown",
   "metadata": {},
   "source": [
    "#### Pirson test"
   ]
  },
  {
   "cell_type": "code",
   "execution_count": 177,
   "metadata": {
    "collapsed": false
   },
   "outputs": [],
   "source": [
    "def pirson_for_discrete(res, a, b):\n",
    "    m, n = b - a + 1, len(res)\n",
    "    \n",
    "    n_arr = np.zeros(m)\n",
    "    for i in res:\n",
    "        n_arr[i - a] += 1\n",
    "\n",
    "    return np.sum([(i - n / m) ** 2 for i in n_arr]) / (n / m)"
   ]
  },
  {
   "cell_type": "markdown",
   "metadata": {},
   "source": [
    "#### Random"
   ]
  },
  {
   "cell_type": "code",
   "execution_count": 178,
   "metadata": {
    "collapsed": false
   },
   "outputs": [
    {
     "data": {
      "image/png": "[encoded data removed]",
      "text/plain": [
       "<matplotlib.figure.Figure at 0x10669d510>"
      ]
     },
     "metadata": {},
     "output_type": "display_data"
    }
   ],
   "source": [
    "plt.hist(np.random.randint(1, 100, size=10000))\n",
    "plt.show()"
   ]
  },
  {
   "cell_type": "code",
   "execution_count": 179,
   "metadata": {
    "collapsed": false
   },
   "outputs": [],
   "source": [
    "ber = bernulli(lcg3Params, lcg3Params, .7)\n",
    "dscr = discrete_distribution(lcg3Params, lcg3Params, 1, 10)\n",
    "\n",
    "ser = Series([pirson_for_bernulli([ber.next() for i in range(100)], .7), pirson_for_bernulli(np.random.randint(0, 2, size=100), .7), pirson_for_discrete([dscr.next() for i in range(100)], 1, 10), pirson_for_discrete(np.random.randint(1, 10, size=100), 1, 10)], index=[\"Bernulli MM\", \"Bernulli Random\", \"Discrete MM\", \"Discrete Random\"])"
   ]
  },
  {
   "cell_type": "code",
   "execution_count": 180,
   "metadata": {
    "collapsed": false
   },
   "outputs": [
    {
     "data": {
      "text/html": [
       "<div>\n",
       "<table border=\"1\" class=\"dataframe\">\n",
       "  <thead>\n",
       "    <tr style=\"text-align: right;\">\n",
       "      <th></th>\n",
       "      <th>Statistic</th>\n",
       "    </tr>\n",
       "  </thead>\n",
       "  <tbody>\n",
       "    <tr>\n",
       "      <th>Bernulli MM</th>\n",
       "      <td>9.761905</td>\n",
       "    </tr>\n",
       "    <tr>\n",
       "      <th>Bernulli Random</th>\n",
       "      <td>67.333333</td>\n",
       "    </tr>\n",
       "    <tr>\n",
       "      <th>Discrete MM</th>\n",
       "      <td>2.600000</td>\n",
       "    </tr>\n",
       "    <tr>\n",
       "      <th>Discrete Random</th>\n",
       "      <td>22.200000</td>\n",
       "    </tr>\n",
       "  </tbody>\n",
       "</table>\n",
       "</div>"
      ],
      "text/plain": [
       "                 Statistic\n",
       "Bernulli MM       9.761905\n",
       "Bernulli Random  67.333333\n",
       "Discrete MM       2.600000\n",
       "Discrete Random  22.200000"
      ]
     },
     "execution_count": 180,
     "metadata": {},
     "output_type": "execute_result"
    }
   ],
   "source": [
    "DataFrame({ \"Statistic\": ser })"
   ]
  }
 ],
 "metadata": {
  "anaconda-cloud": {},
  "kernelspec": {
   "display_name": "Python 2",
   "language": "python",
   "name": "python2"
  },
  "language_info": {
   "codemirror_mode": {
    "name": "ipython",
    "version": 2
   },
   "file_extension": ".py",
   "mimetype": "text/x-python",
   "name": "python",
   "nbconvert_exporter": "python",
   "pygments_lexer": "ipython2",
   "version": "2.7.12"
  }
 },
 "nbformat": 4,
 "nbformat_minor": 1
}
