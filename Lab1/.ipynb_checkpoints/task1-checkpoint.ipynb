{
 "cells": [
  {
   "cell_type": "markdown",
   "metadata": {},
   "source": [
    "#### Imports"
   ]
  },
  {
   "cell_type": "code",
   "execution_count": 369,
   "metadata": {
    "collapsed": false
   },
   "outputs": [
    {
     "name": "stderr",
     "output_type": "stream",
     "text": [
      "//anaconda/lib/python2.7/site-packages/matplotlib/font_manager.py:273: UserWarning: Matplotlib is building the font cache using fc-list. This may take a moment.\n",
      "  warnings.warn('Matplotlib is building the font cache using fc-list. This may take a moment.')\n"
     ]
    }
   ],
   "source": [
    "import math\n",
    "import numpy as np\n",
    "import matplotlib.pyplot as plt"
   ]
  },
  {
   "cell_type": "markdown",
   "metadata": {},
   "source": [
    "#### File input"
   ]
  },
  {
   "cell_type": "code",
   "execution_count": 348,
   "metadata": {
    "collapsed": false
   },
   "outputs": [],
   "source": [
    "with open(\"input.txt\") as fin:\n",
    "    lcg1Params = map(lambda el: int(el), fin.readline().split())\n",
    "    lcg2Params = map(lambda el: int(el), fin.readline().split())\n",
    "    lcg3Params = map(lambda el: int(el), fin.readline().split())"
   ]
  },
  {
   "cell_type": "markdown",
   "metadata": {},
   "source": [
    "### Constants"
   ]
  },
  {
   "cell_type": "code",
   "execution_count": 363,
   "metadata": {
    "collapsed": true
   },
   "outputs": [],
   "source": [
    "big_N = 10 ** 6\n",
    "small_N = 10 ** 4"
   ]
  },
  {
   "cell_type": "markdown",
   "metadata": {},
   "source": [
    "### Generators"
   ]
  },
  {
   "cell_type": "markdown",
   "metadata": {},
   "source": [
    "#### Linear congruential generator"
   ]
  },
  {
   "cell_type": "code",
   "execution_count": 349,
   "metadata": {
    "collapsed": false
   },
   "outputs": [],
   "source": [
    "def LCG(module, a, c, seed):\n",
    "    while True:\n",
    "        seed = (seed * a + c) % module\n",
    "        yield seed / float(module)"
   ]
  },
  {
   "cell_type": "markdown",
   "metadata": {},
   "source": [
    "#### MacLaren-Marsaglia - iterating option"
   ]
  },
  {
   "cell_type": "code",
   "execution_count": 350,
   "metadata": {
    "collapsed": false
   },
   "outputs": [],
   "source": [
    "def MMG(moduleX, aX, cX, seedX, moduleY, aY, cY, seedY, k, n):\n",
    "    randX, randY = LCG(seedX, aX, cX, moduleX), LCG(seedY, aY, cY, moduleY)\n",
    "    X, Y = [randX.next() for i in range(n + k)], [randY.next() for i in range(n)]\n",
    "    \n",
    "    v, result = X[:k], []\n",
    "\n",
    "    for i in range(n):\n",
    "        result.append(v[int(Y[i] * k)])\n",
    "        v[int(Y[i] * k)] = X[k + i]\n",
    "        \n",
    "    return result"
   ]
  },
  {
   "cell_type": "markdown",
   "metadata": {},
   "source": [
    "#### MacLaren-Marsaglia - generator option"
   ]
  },
  {
   "cell_type": "code",
   "execution_count": 351,
   "metadata": {
    "collapsed": false
   },
   "outputs": [],
   "source": [
    "def MMG(moduleX, aX, cX, seedX, moduleY, aY, cY, seedY, k):\n",
    "    randX, randY = LCG(seedX, aX, cX, moduleX), LCG(seedY, aY, cY, moduleY)\n",
    "    v = [randY.next() for i in range(k)]\n",
    "    \n",
    "    while True:\n",
    "        x, j = randY.next(), int(randX.next() * k)\n",
    "        res, v[j] = v[j], x\n",
    "        yield res"
   ]
  },
  {
   "cell_type": "markdown",
   "metadata": {},
   "source": [
    "### Tests"
   ]
  },
  {
   "cell_type": "markdown",
   "metadata": {},
   "source": [
    "#### Similar moments test"
   ]
  },
  {
   "cell_type": "code",
   "execution_count": 352,
   "metadata": {
    "collapsed": false
   },
   "outputs": [],
   "source": [
    "def similar_moments_test(values):\n",
    "    delta = 1.96\n",
    "    n = len(values)\n",
    "    \n",
    "    m = sum(values) / float(n)\n",
    "    sqS = sum([((values[i] - m) ** 2.) for i in range(n)]) / (n - 1.)\n",
    "    \n",
    "    ksiM, ksiS = m - .5, sqS - 1. / 12\n",
    "    \n",
    "    c1, c2 = math.sqrt(12. * n), ((n - 1.) / n) * ((0.0056 / n + 0.0028 / n ** 2 - 0.0038 / n ** 3) ** -0.5)\n",
    "    \n",
    "    return m, sqS, ksiM, ksiS, c1, c2"
   ]
  },
  {
   "cell_type": "markdown",
   "metadata": {},
   "source": [
    "#### Usage"
   ]
  },
  {
   "cell_type": "code",
   "execution_count": 364,
   "metadata": {
    "collapsed": false
   },
   "outputs": [
    {
     "name": "stdout",
     "output_type": "stream",
     "text": [
      "N is 10000\n",
      "Math Expectation: 0.866232835019 - hypothesis H0 \n",
      "Dispersion: 0.681369536123 - hypothesis H0\n",
      "\n",
      "Math Expectation: 0.207707289931 - hypothesis H0 \n",
      "Dispersion: 0.135750556083 - hypothesis H0\n",
      "\n",
      "Math Expectation: 0.727708262045 - hypothesis H0 \n",
      "Dispersion: 0.107094819226 - hypothesis H0\n",
      "\n",
      "Math Expectation: 0.445452526052 - hypothesis H0 \n",
      "Dispersion: 0.828666543146 - hypothesis H0\n",
      "\n",
      "N is 1000000\n",
      "Math Expectation: 9.12305386479 - hypothesis H1 \n",
      "Dispersion: 6.37363280868 - hypothesis H1\n",
      "\n",
      "Math Expectation: 0.157771769203 - hypothesis H0 \n",
      "Dispersion: 0.0134565173735 - hypothesis H0\n",
      "\n",
      "Math Expectation: 0.45355558834 - hypothesis H0 \n",
      "Dispersion: 0.40856177693 - hypothesis H0\n",
      "\n",
      "Math Expectation: 6.73740850103 - hypothesis H1 \n",
      "Dispersion: 8.46330987438 - hypothesis H1\n",
      "\n"
     ]
    }
   ],
   "source": [
    "def logResult(generator, k):\n",
    "    m, sqS, ksiM, ksiS, c1, c2 = similar_moments_test([generator.next() for i in range(k)])\n",
    "    stat1 = c1 * abs(ksiM)\n",
    "    stat2 = c2 * abs(ksiS)\n",
    "    check_stat = lambda stat: \"H0\" if stat < 1.96 else \"H1\"\n",
    "    \n",
    "    print \"\"\"Math Expectation: {} - hypothesis {} \n",
    "Dispersion: {} - hypothesis {}\\n\"\"\".format(stat1, check_stat(stat1), stat2, check_stat(stat2))\n",
    "\n",
    "def runLoggers(N):\n",
    "    print \"N is {}\".format(N)\n",
    "    [logResult(gen, N) for gen in [lcg1, lcg2, lcg3, mmg]]\n",
    "\n",
    "lcg1, lcg2, lcg3, mmg = LCG(*lcg1Params), LCG(*lcg2Params), LCG(*lcg3Params), MMG(*(lcg2Params + lcg3Params + [100]))\n",
    "\n",
    "runLoggers(small_N)\n",
    "runLoggers(big_N)"
   ]
  },
  {
   "cell_type": "markdown",
   "metadata": {},
   "source": [
    "#### Covariation test"
   ]
  },
  {
   "cell_type": "code",
   "execution_count": 354,
   "metadata": {
    "collapsed": false
   },
   "outputs": [],
   "source": [
    "def covariation_test(values):\n",
    "    delta = 1.96\n",
    "    bound = 10\n",
    "    n = len(values)\n",
    "    \n",
    "    count_multi = lambda j: sum([values[i] * values[i + j] for i in range(n - j)])\n",
    "    \n",
    "    m = float(sum(values) / n)\n",
    "    r = [1. / 12] + [0 for i in range(bound - 1)]\n",
    "    _r = [((1. / (n - i - 1)) * count_multi(i) - ((n * m ** 2.) / (n - 1))) for i in range(0, bound)]\n",
    "    \n",
    "    h = [math.sqrt(2) * (delta / (12 * math.sqrt(n - 1)))] + [delta / (12 * math.sqrt(n - 1)) for i in range(bound - 1)]\n",
    "    \n",
    "    return m, r, _r, h"
   ]
  },
  {
   "cell_type": "markdown",
   "metadata": {},
   "source": [
    "#### Usage"
   ]
  },
  {
   "cell_type": "code",
   "execution_count": 368,
   "metadata": {
    "collapsed": false
   },
   "outputs": [
    {
     "name": "stdout",
     "output_type": "stream",
     "text": [
      "N is 10000\n",
      "----------\n",
      "0.000509954012357\n",
      "0.0058296017837\n",
      "0.000615907291655\n",
      "0.0035362338525\n",
      "0.00509936421296\n",
      "0.000957202454294\n",
      "0.0030194596881\n",
      "0.00576848681394\n",
      "0.003471369395\n",
      "0.0001516862775\n",
      "----------\n",
      "[0.0023099976546464293, 0.0016334150061255105, 0.0016334150061255105, 0.0016334150061255105, 0.0016334150061255105, 0.0016334150061255105, 0.0016334150061255105, 0.0016334150061255105, 0.0016334150061255105, 0.0016334150061255105]\n",
      "----------\n",
      "----------\n",
      "0.00010159911338\n",
      "0.000374783516311\n",
      "0.000226275916564\n",
      "0.000271674485373\n",
      "0.000303844930373\n",
      "0.000516136724392\n",
      "0.00012440594648\n",
      "2.28025839238e-05\n",
      "0.000108911496951\n",
      "0.000175649775883\n",
      "----------\n",
      "[0.0023099976546464293, 0.0016334150061255105, 0.0016334150061255105, 0.0016334150061255105, 0.0016334150061255105, 0.0016334150061255105, 0.0016334150061255105, 0.0016334150061255105, 0.0016334150061255105, 0.0016334150061255105]\n",
      "----------\n",
      "----------\n",
      "8.01524427969e-05\n",
      "0.000439881208913\n",
      "0.000122354842174\n",
      "0.00101575251864\n",
      "0.000769010144558\n",
      "0.00100979912274\n",
      "0.000817391227507\n",
      "0.000445349905059\n",
      "0.000433395757418\n",
      "0.000382047460858\n",
      "----------\n",
      "[0.0023099976546464293, 0.0016334150061255105, 0.0016334150061255105, 0.0016334150061255105, 0.0016334150061255105, 0.0016334150061255105, 0.0016334150061255105, 0.0016334150061255105, 0.0016334150061255105, 0.0016334150061255105]\n",
      "----------\n",
      "----------\n",
      "0.000620194778577\n",
      "0.000781160033369\n",
      "8.64469164218e-05\n",
      "0.00129939026066\n",
      "2.89806276346e-05\n",
      "0.000151013831323\n",
      "0.000167197420003\n",
      "0.00058075716809\n",
      "6.96062015505e-05\n",
      "4.35145514788e-05\n",
      "----------\n",
      "[0.0023099976546464293, 0.0016334150061255105, 0.0016334150061255105, 0.0016334150061255105, 0.0016334150061255105, 0.0016334150061255105, 0.0016334150061255105, 0.0016334150061255105, 0.0016334150061255105, 0.0016334150061255105]\n",
      "----------\n",
      "N is 1000000\n",
      "----------\n",
      "0.000476959601948\n",
      "0.00582166972767\n",
      "0.000699251525106\n",
      "0.00337638876924\n",
      "0.00520871055346\n",
      "0.0008878341741\n",
      "0.00290706591244\n",
      "0.00575665760954\n",
      "0.0034486012156\n",
      "0.000158676953314\n",
      "----------\n",
      "[0.00023098833068179974, 0.00016333341500006124, 0.00016333341500006124, 0.00016333341500006124, 0.00016333341500006124, 0.00016333341500006124, 0.00016333341500006124, 0.00016333341500006124, 0.00016333341500006124, 0.00016333341500006124]\n",
      "----------\n",
      "----------\n",
      "1.00699480822e-06\n",
      "7.66288240042e-05\n",
      "0.000258901848469\n",
      "2.94063655471e-05\n",
      "0.000213438476781\n",
      "6.32575365958e-06\n",
      "0.000139373884635\n",
      "0.000124988354901\n",
      "9.6901434074e-06\n",
      "0.000110805466268\n",
      "----------\n",
      "[0.00023098833068179974, 0.00016333341500006124, 0.00016333341500006124, 0.00016333341500006124, 0.00016333341500006124, 0.00016333341500006124, 0.00016333341500006124, 0.00016333341500006124, 0.00016333341500006124, 0.00016333341500006124]\n",
      "----------\n",
      "----------\n",
      "3.05740020293e-05\n",
      "8.36870195087e-07\n",
      "6.09036506338e-05\n",
      "4.43150047956e-05\n",
      "1.2757533928e-05\n",
      "6.09718061914e-05\n",
      "9.82962132657e-05\n",
      "9.07891304872e-05\n",
      "5.56959120573e-06\n",
      "8.67281944992e-05\n",
      "----------\n",
      "[0.00023098833068179974, 0.00016333341500006124, 0.00016333341500006124, 0.00016333341500006124, 0.00016333341500006124, 0.00016333341500006124, 0.00016333341500006124, 0.00016333341500006124, 0.00016333341500006124, 0.00016333341500006124]\n",
      "----------\n",
      "----------\n",
      "0.000633336909858\n",
      "0.000792380079744\n",
      "0.00039218128216\n",
      "0.00100289289138\n",
      "0.000146875850565\n",
      "0.000186882993518\n",
      "0.000405643571936\n",
      "0.000232060721548\n",
      "0.000397081930944\n",
      "7.1864811626e-05\n",
      "----------\n",
      "[0.00023098833068179974, 0.00016333341500006124, 0.00016333341500006124, 0.00016333341500006124, 0.00016333341500006124, 0.00016333341500006124, 0.00016333341500006124, 0.00016333341500006124, 0.00016333341500006124, 0.00016333341500006124]\n",
      "----------\n"
     ]
    }
   ],
   "source": [
    "def logResult(generator, k):\n",
    "    m, r, _r, h = covariation_test([generator.next() for i in range(k)])\n",
    "    \n",
    "    print \"-\" * 10\n",
    "    \n",
    "    for i in range(len(r)):\n",
    "        print abs(r[i] - _r[i])\n",
    "    \n",
    "    print \"-\" * 10\n",
    "    print h\n",
    "    print \"-\" * 10\n",
    "    \n",
    "def runLoggers(N):\n",
    "    print \"N is {}\".format(N)\n",
    "    [logResult(gen, N) for gen in [lcg1, lcg2, lcg3, mmg]]\n",
    "\n",
    "lcg1, lcg2, lcg3, mmg = LCG(*lcg1Params), LCG(*lcg2Params), LCG(*lcg3Params), MMG(*(lcg2Params + lcg3Params + [100]))\n",
    "\n",
    "runLoggers(small_N)\n",
    "runLoggers(big_N)"
   ]
  },
  {
   "cell_type": "markdown",
   "metadata": {},
   "source": [
    "#### Pirson test"
   ]
  },
  {
   "cell_type": "code",
   "execution_count": 356,
   "metadata": {
    "collapsed": false
   },
   "outputs": [],
   "source": [
    "def pirson_test(values):\n",
    "    delta = 1073.64\n",
    "    n, bound = len(values), 1000\n",
    "    \n",
    "    n_arr = np.full(bound, 0)\n",
    "    for i in range(n):\n",
    "        n_arr[int(values[i] * 1000)] += 1\n",
    "    \n",
    "    s = sum([(n_arr[i] - float(n) / bound) ** 2 for i in range(bound)]) / (n / bound)\n",
    "    \n",
    "    return s"
   ]
  },
  {
   "cell_type": "markdown",
   "metadata": {},
   "source": [
    "#### Usage"
   ]
  },
  {
   "cell_type": "code",
   "execution_count": 367,
   "metadata": {
    "collapsed": false
   },
   "outputs": [
    {
     "name": "stdout",
     "output_type": "stream",
     "text": [
      "N is 10000\n",
      "50244.0\n",
      "167.4\n",
      "941.4\n",
      "826.2\n",
      "N is 1000000\n",
      "5024096.4\n",
      "145.918\n",
      "988.272\n",
      "74440.884\n"
     ]
    }
   ],
   "source": [
    "def logResult(generator, k):\n",
    "    stat = pirson_test([generator.next() for i in range(k)])\n",
    "\n",
    "    print stat\n",
    "\n",
    "def runLoggers(N):\n",
    "    print \"N is {}\".format(N)\n",
    "    [logResult(gen, N) for gen in [lcg1, lcg2, lcg3, mmg]]\n",
    "\n",
    "lcg1, lcg2, lcg3, mmg = LCG(*lcg1Params), LCG(*lcg2Params), LCG(*lcg3Params), MMG(*(lcg2Params + lcg3Params + [100]))\n",
    "\n",
    "runLoggers(small_N)\n",
    "runLoggers(big_N)"
   ]
  },
  {
   "cell_type": "markdown",
   "metadata": {},
   "source": [
    "### Plots"
   ]
  },
  {
   "cell_type": "code",
   "execution_count": 387,
   "metadata": {
    "collapsed": false
   },
   "outputs": [
    {
     "data": {
      "image/png": "[encoded data removed]",
      "text/plain": [
       "<matplotlib.figure.Figure at 0x114c942d0>"
      ]
     },
     "metadata": {},
     "output_type": "display_data"
    },
    {
     "data": {
      "text/plain": [
       "[None]"
      ]
     },
     "execution_count": 387,
     "metadata": {},
     "output_type": "execute_result"
    }
   ],
   "source": [
    "N = 1000\n",
    "\n",
    "lcg = LCG(*lcg1Params)\n",
    "dx = [lcg.next() for i in range(N)]\n",
    "\n",
    "lcg1, lcg2, lcg3, mmg = LCG(*lcg1Params), LCG(*lcg2Params), LCG(*lcg3Params), MMG(*(lcg2Params + lcg3Params + [100]))\n",
    "\n",
    "def show_plots (generator):      \n",
    "    gen_values = [generator.next() for i in range(N + 1)]\n",
    "    \n",
    "    dx = gen_values[:-1]\n",
    "    dy = gen_values[1:]\n",
    "\n",
    "    plt.plot(dx, dy, 'ro')\n",
    "    plt.show()\n",
    "    \n",
    "[show_plots(gen) for gen in [lcg1]]"
   ]
  },
  {
   "cell_type": "code",
   "execution_count": null,
   "metadata": {
    "collapsed": true
   },
   "outputs": [],
   "source": []
  }
 ],
 "metadata": {
  "anaconda-cloud": {},
  "kernelspec": {
   "display_name": "Python [default]",
   "language": "python",
   "name": "python2"
  },
  "language_info": {
   "codemirror_mode": {
    "name": "ipython",
    "version": 2
   },
   "file_extension": ".py",
   "mimetype": "text/x-python",
   "name": "python",
   "nbconvert_exporter": "python",
   "pygments_lexer": "ipython2",
   "version": "2.7.12"
  }
 },
 "nbformat": 4,
 "nbformat_minor": 1
}
