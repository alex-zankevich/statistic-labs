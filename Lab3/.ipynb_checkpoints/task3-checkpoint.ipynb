{
 "cells": [
  {
   "cell_type": "code",
   "execution_count": 4,
   "metadata": {
    "collapsed": false
   },
   "outputs": [],
   "source": [
    "import math\n",
    "from __future__ import division\n",
    "import matplotlib.pyplot as plt\n",
    "import numpy as np\n",
    "import pandas as pd\n",
    "from pandas import Series, DataFrame"
   ]
  },
  {
   "cell_type": "markdown",
   "metadata": {},
   "source": [
    "#### Initial"
   ]
  },
  {
   "cell_type": "code",
   "execution_count": 5,
   "metadata": {
    "collapsed": true
   },
   "outputs": [],
   "source": [
    "lcg3_params = [2147483647, 16807, 0, 65539]"
   ]
  },
  {
   "cell_type": "markdown",
   "metadata": {},
   "source": [
    "#### Linear congruential generator"
   ]
  },
  {
   "cell_type": "code",
   "execution_count": 6,
   "metadata": {
    "collapsed": true
   },
   "outputs": [],
   "source": [
    "def LCG(module, a, c, seed):\n",
    "    while True:\n",
    "        seed = (seed * a + c) % module\n",
    "        yield seed / float(module)"
   ]
  },
  {
   "cell_type": "markdown",
   "metadata": {},
   "source": [
    "#### MacLaren-Marsaglia - iterating option"
   ]
  },
  {
   "cell_type": "code",
   "execution_count": 7,
   "metadata": {
    "collapsed": true
   },
   "outputs": [],
   "source": [
    "def MMG(moduleX, aX, cX, seedX, moduleY, aY, cY, seedY, k, n):\n",
    "    randX, randY = LCG(seedX, aX, cX, moduleX), LCG(seedY, aY, cY, moduleY)\n",
    "    X, Y = [randX.next() for i in range(n + k)], [randY.next() for i in range(n)]\n",
    "    \n",
    "    v, result = X[:k], []\n",
    "\n",
    "    for i in range(n):\n",
    "        result.append(v[int(Y[i] * k)])\n",
    "        v[int(Y[i] * k)] = X[k + i]\n",
    "        \n",
    "    return result"
   ]
  },
  {
   "cell_type": "code",
   "execution_count": 8,
   "metadata": {
    "collapsed": false
   },
   "outputs": [
    {
     "data": {
      "text/plain": [
       "[0.5724377851355681,\n",
       " 0.20630464303697035,\n",
       " 0.8993118601138254,\n",
       " 0.7344634492439616,\n",
       " 0.9214513495781138,\n",
       " 0.666854849784098,\n",
       " 0.5306458749752057,\n",
       " 0.09608019652420696,\n",
       " 0.39754955064923175,\n",
       " 0.34719785166084316]"
      ]
     },
     "execution_count": 8,
     "metadata": {},
     "output_type": "execute_result"
    }
   ],
   "source": [
    "mmg = MMG(*(lcg3_params + lcg3_params + [256, 10]))\n",
    "print [_ for _ in mmg]"
   ]
  },
  {
   "cell_type": "markdown",
   "metadata": {},
   "source": [
    "#### MacLaren-Marsaglia - generator option"
   ]
  },
  {
   "cell_type": "code",
   "execution_count": 9,
   "metadata": {
    "collapsed": true
   },
   "outputs": [],
   "source": [
    "def MMG(moduleX, aX, cX, seedX, moduleY, aY, cY, seedY, k):\n",
    "    randX, randY = LCG(seedX, aX, cX, moduleX), LCG(seedY, aY, cY, moduleY)\n",
    "    v = [randY.next() for i in range(k)]\n",
    "    \n",
    "    while True:\n",
    "        x, j = randY.next(), int(randX.next() * k)\n",
    "        res, v[j] = v[j], x\n",
    "        yield res"
   ]
  },
  {
   "cell_type": "code",
   "execution_count": 10,
   "metadata": {
    "collapsed": false
   },
   "outputs": [
    {
     "data": {
      "text/plain": [
       "[0.5724377851355681,\n",
       " 0.20630464303697035,\n",
       " 0.8993118601138254,\n",
       " 0.7344634492439616,\n",
       " 0.9214513495781138,\n",
       " 0.666854849784098,\n",
       " 0.5306458749752057,\n",
       " 0.09608019652420696,\n",
       " 0.39754955064923175,\n",
       " 0.34719785166084316]"
      ]
     },
     "execution_count": 10,
     "metadata": {},
     "output_type": "execute_result"
    }
   ],
   "source": [
    "mmg = MMG(*(lcg3_params + lcg3_params + [256]))\n",
    "print [mmg.next() for _ in range(10)]"
   ]
  }
 ],
 "metadata": {
  "anaconda-cloud": {},
  "kernelspec": {
   "display_name": "Python 2",
   "language": "python",
   "name": "python2"
  },
  "language_info": {
   "codemirror_mode": {
    "name": "ipython",
    "version": 2
   },
   "file_extension": ".py",
   "mimetype": "text/x-python",
   "name": "python",
   "nbconvert_exporter": "python",
   "pygments_lexer": "ipython2",
   "version": "2.7.10"
  }
 },
 "nbformat": 4,
 "nbformat_minor": 1
}
